{
  "cells": [
    {
      "cell_type": "code",
      "source": [
        "%%spark\r\n",
        "// val dfProduct = spark.read.synapsesql(\"edwdb.cso.DimProduct\")\r\n",
        "// dfProduct.write.mode(\"overwrite\").format(\"delta\").save(\"/data/contoso/DimProduct/\")\r\n",
        "\r\n",
        "// // You can set tables used in this example by installing contoso sample database from below location in SQL pool database\r\n",
        "// // https://github.com/microsoft/sql-server-samples/tree/master/samples/databases/contoso-data-warehouse"
      ],
      "outputs": [],
      "execution_count": null,
      "metadata": {
        "microsoft": {
          "language": "scala"
        }
      }
    },
    {
      "cell_type": "code",
      "source": [
        "%%spark\r\n",
        "// import org.apache.spark.sql.functions._\r\n",
        "// val dfFactOnlineSales = spark.read.synapsesql(\"edwdb.cso.FactOnlineSales\")\r\n",
        "// val dfFactOnlineSales1 = dfFactOnlineSales.withColumn(\"SaleYear\", year(dfFactOnlineSales(\"DateKey\")))\r\n",
        "// dfFactOnlineSales1.write.mode(\"overwrite\").format(\"delta\").partitionBy(\"SaleYear\").save(\"/data/contoso/FactOnlineSales/\")"
      ],
      "outputs": [],
      "execution_count": null,
      "metadata": {
        "jupyter": {
          "source_hidden": false,
          "outputs_hidden": false
        },
        "nteract": {
          "transient": {
            "deleting": false
          }
        },
        "microsoft": {
          "language": "scala"
        }
      }
    },
    {
      "cell_type": "code",
      "source": [
        "dfProduct = spark.read.format(\"delta\").load(\"/data/contoso/DimProduct/\")\r\n",
        "dfProduct.createOrReplaceTempView(\"DimProduct\")\r\n",
        "\r\n",
        "dfFactOnlineSales = spark.read.format(\"delta\").load(\"/data/contoso/FactOnlineSales/\")\r\n",
        "dfFactOnlineSales.createOrReplaceTempView(\"FactOnlineSales\")"
      ],
      "outputs": [],
      "execution_count": null,
      "metadata": {
        "jupyter": {
          "source_hidden": false,
          "outputs_hidden": false
        },
        "nteract": {
          "transient": {
            "deleting": false
          }
        }
      }
    },
    {
      "cell_type": "code",
      "source": [
        "dfJoinedSale = dfProduct.join(dfFactOnlineSales, dfProduct.ProductKey == dfFactOnlineSales.ProductKey) \r\n",
        "dfJoinedSale = dfJoinedSale.filter(dfJoinedSale.SaleYear == 2009)\r\n",
        "# display(dfJoinedSale)\r\n",
        "\r\n",
        "dfJoinedSale.explain() # only physical plan\r\n",
        "# dfJoinedSale.explain(True) # all plans including logical and physical plan"
      ],
      "outputs": [],
      "execution_count": null,
      "metadata": {
        "jupyter": {
          "source_hidden": false,
          "outputs_hidden": false
        },
        "nteract": {
          "transient": {
            "deleting": false
          }
        },
        "collapsed": false
      }
    },
    {
      "cell_type": "code",
      "source": [
        "dfAggregatedSale = dfJoinedSale.groupBy('BrandName').agg({'SalesAmount':'sum'})\r\n",
        "# display(dfAggregatedSale)\r\n",
        "dfAggregatedSale.explain()"
      ],
      "outputs": [],
      "execution_count": null,
      "metadata": {
        "jupyter": {
          "source_hidden": false,
          "outputs_hidden": false
        },
        "nteract": {
          "transient": {
            "deleting": false
          }
        },
        "collapsed": false
      }
    },
    {
      "cell_type": "code",
      "source": [
        "%%sql\r\n",
        "EXPLAIN\r\n",
        "SELECT  SUM(f.SalesAmount) AS sales_by_brand_amount\r\n",
        ",       p.BrandName\r\n",
        "FROM    FactOnlineSales AS f\r\n",
        "JOIN    DimProduct      AS p ON f.ProductKey = p.ProductKey\r\n",
        "GROUP BY p.BrandName"
      ],
      "outputs": [],
      "execution_count": null,
      "metadata": {
        "jupyter": {
          "source_hidden": false,
          "outputs_hidden": false
        },
        "nteract": {
          "transient": {
            "deleting": false
          }
        },
        "microsoft": {
          "language": "sparksql"
        },
        "collapsed": false
      }
    },
    {
      "cell_type": "code",
      "source": [
        "print(spark.conf.get(\"spark.sql.autoBroadcastJoinThreshold\")) # 26214400 - 26 MB\r\n",
        "\r\n",
        "# You can use join hint, as below, to instruct Optimizer to broadcast for the specified database\r\n",
        "# df1.join(broadcast(df2), Seq(\"id\")).explain #broadcast join hint"
      ],
      "outputs": [],
      "execution_count": null,
      "metadata": {
        "jupyter": {
          "source_hidden": false,
          "outputs_hidden": false
        },
        "nteract": {
          "transient": {
            "deleting": false
          }
        }
      }
    },
    {
      "cell_type": "code",
      "source": [
        "%%sql\r\n",
        "SELECT  SUM(f.SalesAmount) AS sales_by_brand_amount\r\n",
        ",       p.BrandName\r\n",
        "FROM    FactOnlineSales AS f\r\n",
        "JOIN    DimProduct      AS p ON f.ProductKey = p.ProductKey\r\n",
        "GROUP BY p.BrandName"
      ],
      "outputs": [],
      "execution_count": null,
      "metadata": {
        "jupyter": {
          "source_hidden": false,
          "outputs_hidden": false
        },
        "nteract": {
          "transient": {
            "deleting": false
          }
        },
        "microsoft": {
          "language": "sparksql"
        },
        "collapsed": false
      }
    },
    {
      "cell_type": "code",
      "source": [
        "# Adaptive Query Execution https://spark.apache.org/docs/latest/sql-performance-tuning.html#adaptive-query-execution\r\n",
        "print(spark.conf.get(\"spark.sql.adaptive.enabled\"))"
      ],
      "outputs": [],
      "execution_count": null,
      "metadata": {
        "jupyter": {
          "source_hidden": false,
          "outputs_hidden": false
        },
        "nteract": {
          "transient": {
            "deleting": false
          }
        }
      }
    }
  ],
  "metadata": {
    "kernelspec": {
      "name": "synapse_pyspark",
      "language": "Python",
      "display_name": "Synapse PySpark"
    },
    "language_info": {
      "name": "python"
    },
    "kernel_info": {
      "name": "synapse_pyspark"
    },
    "description": null,
    "save_output": true,
    "synapse_widget": {
      "version": "0.1",
      "state": {}
    }
  },
  "nbformat": 4,
  "nbformat_minor": 2
}