{
  "cells": [
    {
      "cell_type": "code",
      "source": [
        "from azureml.opendatasets import NycTlcYellow\r\n",
        "from dateutil import parser\r\n",
        "from datetime import datetime\r\n",
        "\r\n",
        "start_date = parser.parse('2018-05-01')\r\n",
        "end_date = parser.parse('2018-05-31')\r\n",
        "nyc_tlc = NycTlcYellow(start_date=start_date, end_date=end_date)\r\n",
        "filtered_df = nyc_tlc.to_spark_dataframe()"
      ],
      "outputs": [
        {
          "output_type": "display_data",
          "data": {
            "application/vnd.livy.statement-meta+json": {
              "spark_pool": "sparkpoolv31",
              "session_id": 0,
              "statement_id": 1,
              "state": "finished",
              "livy_statement_state": "available",
              "queued_time": "2021-11-09T00:36:49.9208626Z",
              "session_start_time": "2021-11-09T00:36:49.9621996Z",
              "execution_start_time": "2021-11-09T00:39:24.3860903Z",
              "execution_finish_time": "2021-11-09T00:39:53.3875398Z"
            },
            "text/plain": "StatementMeta(sparkpoolv31, 0, 1, Finished, Available)"
          },
          "metadata": {}
        }
      ],
      "execution_count": 1,
      "metadata": {
        "ms_comments": [
          {
            "threadId": "b31d0b03-a151-4ef5-af83-36b4eab53bb3",
            "text": "Review completed",
            "status": "active",
            "user": {
              "name": "Arshad Ali",
              "idType": "aad"
            },
            "createdDateUTC": 1636419507852,
            "modifiedDateUTC": 1636419507852,
            "replies": []
          }
        ],
        "ms_comment_ranges": {
          "b31d0b03-a151-4ef5-af83-36b4eab53bb3": {
            "text": "from azureml.opendatasets import NycTlcYellow\nfrom dateutil import parser\nfrom datetime import datetime\n\nstart_date = parser.parse('2018-05-01')\nend_date = parser.parse('2018-05-31')\nnyc_tlc = NycTlcYellow(start_date=start_date, end_date=end_date)\nfiltered_df = nyc_tlc.to_spark_dataframe()",
            "start": {
              "line": 1,
              "column": 1
            },
            "end": {
              "line": 8,
              "column": 43
            }
          }
        }
      }
    },
    {
      "cell_type": "code",
      "source": [
        "%%pyspark\r\n",
        "spark.sql(\"CREATE DATABASE IF NOT EXISTS NycTlcTutorial\")\r\n",
        "filtered_df.write.mode(\"overwrite\").saveAsTable(\"NycTlcTutorial.nyctaxi\")"
      ],
      "outputs": [
        {
          "output_type": "display_data",
          "data": {
            "application/vnd.livy.statement-meta+json": {
              "spark_pool": "sparkpoolv31",
              "session_id": 0,
              "statement_id": 2,
              "state": "finished",
              "livy_statement_state": "available",
              "queued_time": "2021-11-09T00:42:56.4142782Z",
              "session_start_time": null,
              "execution_start_time": "2021-11-09T00:42:56.597524Z",
              "execution_finish_time": "2021-11-09T00:44:09.2822112Z"
            },
            "text/plain": "StatementMeta(sparkpoolv31, 0, 2, Finished, Available)"
          },
          "metadata": {}
        }
      ],
      "execution_count": 2,
      "metadata": {
        "jupyter": {
          "source_hidden": false,
          "outputs_hidden": false
        },
        "nteract": {
          "transient": {
            "deleting": false
          }
        },
        "microsoft": {
          "language": "python"
        }
      }
    },
    {
      "cell_type": "code",
      "source": [
        "%%sql\r\n",
        "SELECT * FROM NycTlcTutorial.nyctaxi LIMIT 10"
      ],
      "outputs": [
        {
          "output_type": "display_data",
          "data": {
            "application/vnd.livy.statement-meta+json": {
              "spark_pool": "sparkpoolv31",
              "session_id": 0,
              "statement_id": 3,
              "state": "finished",
              "livy_statement_state": "available",
              "queued_time": "2021-11-09T00:44:19.8174838Z",
              "session_start_time": null,
              "execution_start_time": "2021-11-09T00:44:19.9310897Z",
              "execution_finish_time": "2021-11-09T00:44:22.8547593Z"
            },
            "text/plain": "StatementMeta(sparkpoolv31, 0, 3, Finished, Available)"
          },
          "metadata": {}
        },
        {
          "output_type": "execute_result",
          "execution_count": 3,
          "data": {
            "application/vnd.synapse.sparksql-result+json": {
              "schema": {
                "type": "struct",
                "fields": [
                  {
                    "name": "vendorID",
                    "type": "string",
                    "nullable": true,
                    "metadata": {}
                  },
                  {
                    "name": "tpepPickupDateTime",
                    "type": "timestamp",
                    "nullable": true,
                    "metadata": {}
                  },
                  {
                    "name": "tpepDropoffDateTime",
                    "type": "timestamp",
                    "nullable": true,
                    "metadata": {}
                  },
                  {
                    "name": "passengerCount",
                    "type": "integer",
                    "nullable": true,
                    "metadata": {}
                  },
                  {
                    "name": "tripDistance",
                    "type": "double",
                    "nullable": true,
                    "metadata": {}
                  },
                  {
                    "name": "puLocationId",
                    "type": "string",
                    "nullable": true,
                    "metadata": {}
                  },
                  {
                    "name": "doLocationId",
                    "type": "string",
                    "nullable": true,
                    "metadata": {}
                  },
                  {
                    "name": "startLon",
                    "type": "double",
                    "nullable": true,
                    "metadata": {}
                  },
                  {
                    "name": "startLat",
                    "type": "double",
                    "nullable": true,
                    "metadata": {}
                  },
                  {
                    "name": "endLon",
                    "type": "double",
                    "nullable": true,
                    "metadata": {}
                  },
                  {
                    "name": "endLat",
                    "type": "double",
                    "nullable": true,
                    "metadata": {}
                  },
                  {
                    "name": "rateCodeId",
                    "type": "integer",
                    "nullable": true,
                    "metadata": {}
                  },
                  {
                    "name": "storeAndFwdFlag",
                    "type": "string",
                    "nullable": true,
                    "metadata": {}
                  },
                  {
                    "name": "paymentType",
                    "type": "string",
                    "nullable": true,
                    "metadata": {}
                  },
                  {
                    "name": "fareAmount",
                    "type": "double",
                    "nullable": true,
                    "metadata": {}
                  },
                  {
                    "name": "extra",
                    "type": "double",
                    "nullable": true,
                    "metadata": {}
                  },
                  {
                    "name": "mtaTax",
                    "type": "double",
                    "nullable": true,
                    "metadata": {}
                  },
                  {
                    "name": "improvementSurcharge",
                    "type": "string",
                    "nullable": true,
                    "metadata": {}
                  },
                  {
                    "name": "tipAmount",
                    "type": "double",
                    "nullable": true,
                    "metadata": {}
                  },
                  {
                    "name": "tollsAmount",
                    "type": "double",
                    "nullable": true,
                    "metadata": {}
                  },
                  {
                    "name": "totalAmount",
                    "type": "double",
                    "nullable": true,
                    "metadata": {}
                  },
                  {
                    "name": "puYear",
                    "type": "integer",
                    "nullable": true,
                    "metadata": {}
                  },
                  {
                    "name": "puMonth",
                    "type": "integer",
                    "nullable": true,
                    "metadata": {}
                  }
                ]
              },
              "data": [
                [
                  "2",
                  "2018-05-27T17:50:34Z",
                  "2018-05-27T17:56:41Z",
                  3,
                  0.82,
                  "161",
                  "100",
                  null,
                  null,
                  null,
                  null,
                  1,
                  "N",
                  "2",
                  6,
                  0,
                  0.5,
                  "0.3",
                  0,
                  0,
                  6.8,
                  2018,
                  5
                ],
                [
                  "2",
                  "2018-05-23T08:20:41Z",
                  "2018-05-23T08:37:06Z",
                  1,
                  1.69,
                  "142",
                  "162",
                  null,
                  null,
                  null,
                  null,
                  1,
                  "N",
                  "1",
                  11.5,
                  0,
                  0.5,
                  "0.3",
                  3.08,
                  0,
                  15.38,
                  2018,
                  5
                ],
                [
                  "2",
                  "2018-05-23T09:02:54Z",
                  "2018-05-23T09:17:59Z",
                  2,
                  6.64,
                  "140",
                  "87",
                  null,
                  null,
                  null,
                  null,
                  1,
                  "N",
                  "2",
                  19.5,
                  0,
                  0.5,
                  "0.3",
                  0,
                  0,
                  20.3,
                  2018,
                  5
                ],
                [
                  "2",
                  "2018-05-23T13:28:48Z",
                  "2018-05-23T13:35:15Z",
                  1,
                  0.61,
                  "170",
                  "234",
                  null,
                  null,
                  null,
                  null,
                  1,
                  "N",
                  "1",
                  6,
                  0,
                  0.5,
                  "0.3",
                  1,
                  0,
                  7.8,
                  2018,
                  5
                ],
                [
                  "2",
                  "2018-05-23T07:05:50Z",
                  "2018-05-23T07:07:40Z",
                  2,
                  0.48,
                  "48",
                  "50",
                  null,
                  null,
                  null,
                  null,
                  1,
                  "N",
                  "2",
                  3.5,
                  0,
                  0.5,
                  "0.3",
                  0,
                  0,
                  4.3,
                  2018,
                  5
                ],
                [
                  "2",
                  "2018-05-23T07:31:51Z",
                  "2018-05-23T07:44:02Z",
                  5,
                  1.77,
                  "223",
                  "129",
                  null,
                  null,
                  null,
                  null,
                  1,
                  "N",
                  "2",
                  10.5,
                  0,
                  0.5,
                  "0.3",
                  0,
                  0,
                  11.3,
                  2018,
                  5
                ],
                [
                  "2",
                  "2018-05-23T10:40:00Z",
                  "2018-05-23T11:05:51Z",
                  1,
                  2.3,
                  "161",
                  "68",
                  null,
                  null,
                  null,
                  null,
                  1,
                  "N",
                  "2",
                  16.5,
                  0,
                  0.5,
                  "0.3",
                  0,
                  0,
                  17.3,
                  2018,
                  5
                ],
                [
                  "1",
                  "2018-05-06T14:25:50Z",
                  "2018-05-06T15:18:25Z",
                  1,
                  12.4,
                  "132",
                  "188",
                  null,
                  null,
                  null,
                  null,
                  1,
                  "N",
                  "1",
                  45,
                  0,
                  0.5,
                  "0.3",
                  9.15,
                  0,
                  54.95,
                  2018,
                  5
                ],
                [
                  "2",
                  "2018-05-23T07:03:16Z",
                  "2018-05-23T07:17:22Z",
                  1,
                  6.6,
                  "140",
                  "209",
                  null,
                  null,
                  null,
                  null,
                  1,
                  "N",
                  "1",
                  20,
                  0,
                  0.5,
                  "0.3",
                  4.16,
                  0,
                  24.96,
                  2018,
                  5
                ],
                [
                  "2",
                  "2018-05-06T13:56:47Z",
                  "2018-05-06T14:01:35Z",
                  4,
                  0.54,
                  "161",
                  "162",
                  null,
                  null,
                  null,
                  null,
                  1,
                  "N",
                  "1",
                  5,
                  0,
                  0.5,
                  "0.3",
                  1,
                  0,
                  6.8,
                  2018,
                  5
                ]
              ]
            },
            "text/plain": "<Spark SQL result set with 10 rows and 23 fields>"
          },
          "metadata": {}
        }
      ],
      "execution_count": 3,
      "metadata": {
        "jupyter": {
          "source_hidden": false,
          "outputs_hidden": false
        },
        "nteract": {
          "transient": {
            "deleting": false
          }
        },
        "microsoft": {
          "language": "sparksql"
        },
        "collapsed": false
      }
    },
    {
      "cell_type": "code",
      "source": [
        "spark.conf.get(\"spark.driver.maxResultSize\")"
      ],
      "outputs": [
        {
          "output_type": "display_data",
          "data": {
            "application/vnd.livy.statement-meta+json": {
              "spark_pool": "sparkpoolv31",
              "session_id": 0,
              "statement_id": 4,
              "state": "finished",
              "livy_statement_state": "available",
              "queued_time": "2021-11-09T00:49:31.5900819Z",
              "session_start_time": null,
              "execution_start_time": "2021-11-09T00:49:31.7473916Z",
              "execution_finish_time": "2021-11-09T00:49:31.8898992Z"
            },
            "text/plain": "StatementMeta(sparkpoolv31, 0, 4, Finished, Available)"
          },
          "metadata": {}
        },
        {
          "output_type": "display_data",
          "data": {
            "text/plain": "'4096m'"
          },
          "metadata": {}
        }
      ],
      "execution_count": 4,
      "metadata": {
        "jupyter": {
          "source_hidden": false,
          "outputs_hidden": false
        },
        "nteract": {
          "transient": {
            "deleting": false
          }
        }
      }
    },
    {
      "cell_type": "code",
      "source": [
        "%%configure -f \r\n",
        "{\r\n",
        "    \"conf\": {\"spark.driver.maxResultSize\": \"10g\"}\r\n",
        "}"
      ],
      "outputs": [
        {
          "output_type": "display_data",
          "data": {
            "application/vnd.livy.statement-meta+json": {
              "spark_pool": null,
              "session_id": 1,
              "statement_id": -1,
              "state": "finished",
              "livy_statement_state": "available",
              "queued_time": "2021-11-09T00:50:19.1008463Z",
              "session_start_time": "2021-11-09T00:50:19.3368258Z",
              "execution_start_time": "2021-11-09T00:51:12.3830712Z",
              "execution_finish_time": "2021-11-09T00:51:12.3832019Z"
            },
            "text/plain": "StatementMeta(, 1, -1, Finished, Available)"
          },
          "metadata": {}
        }
      ],
      "execution_count": 5,
      "metadata": {
        "jupyter": {
          "source_hidden": false,
          "outputs_hidden": false
        },
        "nteract": {
          "transient": {
            "deleting": false
          }
        }
      }
    },
    {
      "cell_type": "code",
      "source": [
        "spark.conf.get(\"spark.driver.maxResultSize\")"
      ],
      "outputs": [
        {
          "output_type": "display_data",
          "data": {
            "application/vnd.livy.statement-meta+json": {
              "spark_pool": "sparkpoolv31",
              "session_id": 1,
              "statement_id": 1,
              "state": "finished",
              "livy_statement_state": "available",
              "queued_time": "2021-11-09T00:51:29.3175984Z",
              "session_start_time": null,
              "execution_start_time": "2021-11-09T00:51:35.2515003Z",
              "execution_finish_time": "2021-11-09T00:51:35.40532Z"
            },
            "text/plain": "StatementMeta(sparkpoolv31, 1, 1, Finished, Available)"
          },
          "metadata": {}
        },
        {
          "output_type": "display_data",
          "data": {
            "text/plain": "'10g'"
          },
          "metadata": {}
        }
      ],
      "execution_count": 6,
      "metadata": {
        "jupyter": {
          "source_hidden": false,
          "outputs_hidden": false
        },
        "nteract": {
          "transient": {
            "deleting": false
          }
        }
      }
    },
    {
      "cell_type": "code",
      "source": [
        "print(spark.conf.get(\"spark.executor.instances\"))\r\n",
        "print(spark.conf.get(\"spark.executor.cores\"))\r\n",
        "print(spark.conf.get(\"spark.executor.memory\"))"
      ],
      "outputs": [
        {
          "output_type": "display_data",
          "data": {
            "application/vnd.livy.statement-meta+json": {
              "spark_pool": "sparkpoolv31",
              "session_id": 1,
              "statement_id": 2,
              "state": "finished",
              "livy_statement_state": "available",
              "queued_time": "2021-11-09T00:52:25.5162312Z",
              "session_start_time": null,
              "execution_start_time": "2021-11-09T00:52:25.6198849Z",
              "execution_finish_time": "2021-11-09T00:52:26.0081351Z"
            },
            "text/plain": "StatementMeta(sparkpoolv31, 1, 2, Finished, Available)"
          },
          "metadata": {}
        },
        {
          "output_type": "stream",
          "name": "stdout",
          "text": [
            "1\n4\n28g"
          ]
        }
      ],
      "execution_count": 7,
      "metadata": {
        "jupyter": {
          "source_hidden": false,
          "outputs_hidden": false
        },
        "nteract": {
          "transient": {
            "deleting": false
          }
        }
      }
    },
    {
      "cell_type": "code",
      "source": [
        "%%configure -f \r\n",
        "{\r\n",
        "    \"numExecutors\": 4,\r\n",
        "    \"executorCores\": 4,\r\n",
        "    \"executorMemory\": \"28g\"\r\n",
        "}"
      ],
      "outputs": [
        {
          "output_type": "display_data",
          "data": {
            "application/vnd.livy.statement-meta+json": {
              "spark_pool": null,
              "session_id": 2,
              "statement_id": -1,
              "state": "finished",
              "livy_statement_state": "available",
              "queued_time": "2021-11-09T00:53:31.3990982Z",
              "session_start_time": "2021-11-09T00:53:31.5369914Z",
              "execution_start_time": "2021-11-09T00:54:17.4897909Z",
              "execution_finish_time": "2021-11-09T00:54:17.4899602Z"
            },
            "text/plain": "StatementMeta(, 2, -1, Finished, Available)"
          },
          "metadata": {}
        },
        {
          "output_type": "execute_result",
          "execution_count": 8,
          "data": {
            "text/vnd.synapse.configuremagic-result": {
              "kind": "pyspark",
              "proxyUser": null,
              "jars": [],
              "pyFiles": [],
              "files": [],
              "driverMemory": "28g",
              "driverCores": 4,
              "executorMemory": "28g",
              "executorCores": 4,
              "numExecutors": 4,
              "archives": [],
              "queue": null,
              "name": "",
              "conf": {
                "spark.dynamicAllocation.enabled": "false",
                "spark.dynamicAllocation.minExecutors": "1",
                "spark.dynamicAllocation.maxExecutors": "1",
                "spark.livy.server.session.timeout": "1800000",
                "spark.synapse.context.notebookname": "demoscript1",
                "spark.synapse.context.pipelinejobid": "",
                "spark.synapse.context.activityrunid": "",
                "spark.livy.synapse.sql.displayFormatter.enabled": "True"
              },
              "isQueueable": false,
              "heartbeatTimeoutInSecond": null,
              "sparkConfigurationArtifact": "{}"
            },
            "text/plain": "Warning: When setting executor and driver size using %%configure the requested size will be mapped to closest available size which may be bigger than requested. Please use \"configure session\" panel to select directly from available sizes.\nSee https://go.microsoft.com/fwlink/?linkid=2170827."
          },
          "metadata": {}
        }
      ],
      "execution_count": 8,
      "metadata": {
        "jupyter": {
          "source_hidden": false,
          "outputs_hidden": false
        },
        "nteract": {
          "transient": {
            "deleting": false
          }
        }
      }
    },
    {
      "cell_type": "code",
      "source": [
        "print(spark.conf.get(\"spark.executor.instances\"))\r\n",
        "print(spark.conf.get(\"spark.executor.cores\"))\r\n",
        "print(spark.conf.get(\"spark.executor.memory\"))"
      ],
      "outputs": [
        {
          "output_type": "display_data",
          "data": {
            "application/vnd.livy.statement-meta+json": {
              "spark_pool": "sparkpoolv31",
              "session_id": 2,
              "statement_id": 1,
              "state": "finished",
              "livy_statement_state": "available",
              "queued_time": "2021-11-09T00:54:36.9038215Z",
              "session_start_time": null,
              "execution_start_time": "2021-11-09T00:54:39.1342711Z",
              "execution_finish_time": "2021-11-09T00:54:39.2814071Z"
            },
            "text/plain": "StatementMeta(sparkpoolv31, 2, 1, Finished, Available)"
          },
          "metadata": {}
        },
        {
          "output_type": "stream",
          "name": "stdout",
          "text": [
            "4\n4\n28g"
          ]
        }
      ],
      "execution_count": 9,
      "metadata": {
        "jupyter": {
          "source_hidden": false,
          "outputs_hidden": false
        },
        "nteract": {
          "transient": {
            "deleting": false
          }
        }
      }
    },
    {
      "cell_type": "code",
      "source": [],
      "outputs": [],
      "execution_count": null,
      "metadata": {
        "jupyter": {
          "source_hidden": false,
          "outputs_hidden": false
        },
        "nteract": {
          "transient": {
            "deleting": false
          }
        }
      }
    }
  ],
  "metadata": {
    "language_info": {
      "name": "python"
    },
    "kernelspec": {
      "name": "synapse_pyspark",
      "language": "Python",
      "display_name": "Synapse PySpark"
    },
    "kernel_info": {
      "name": "synapse_pyspark"
    },
    "save_output": true,
    "synapse_widget": {
      "version": "0.1",
      "state": {}
    }
  },
  "nbformat": 4,
  "nbformat_minor": 2
}