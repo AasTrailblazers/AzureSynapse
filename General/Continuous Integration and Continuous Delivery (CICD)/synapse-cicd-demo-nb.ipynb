{
  "cells": [
    {
      "cell_type": "code",
      "source": [
        "from azureml.opendatasets import PublicHolidays\r\n",
        "\r\n",
        "from datetime import datetime\r\n",
        "from dateutil import parser\r\n",
        "from dateutil.relativedelta import relativedelta\r\n",
        "\r\n",
        "end_date = datetime.today()\r\n",
        "start_date = datetime.today() - relativedelta(months=6)\r\n",
        "hol = PublicHolidays(start_date=start_date, end_date=end_date)\r\n",
        "hol_df = hol.to_spark_dataframe()\r\n",
        "\r\n",
        "hol_df.write.parquet('/data/holidaydata/', mode = 'overwrite')"
      ],
      "outputs": [
        {
          "output_type": "display_data",
          "data": {
            "application/vnd.livy.statement-meta+json": {
              "spark_pool": "sparkpoolv31",
              "session_id": 0,
              "statement_id": 1,
              "state": "finished",
              "livy_statement_state": "available",
              "queued_time": "2021-11-01T06:36:06.4921478Z",
              "session_start_time": "2021-11-01T06:36:06.5300331Z",
              "execution_start_time": "2021-11-01T06:38:53.7999869Z",
              "execution_finish_time": "2021-11-01T06:39:34.9388077Z"
            },
            "text/plain": "StatementMeta(sparkpoolv31, 0, 1, Finished, Available)"
          },
          "metadata": {}
        }
      ],
      "execution_count": 1,
      "metadata": {}
    },
    {
      "cell_type": "code",
      "source": [],
      "outputs": [],
      "execution_count": null,
      "metadata": {
        "jupyter": {
          "source_hidden": false,
          "outputs_hidden": false
        },
        "nteract": {
          "transient": {
            "deleting": false
          }
        }
      }
    }
  ],
  "metadata": {
    "kernelspec": {
      "name": "synapse_pyspark",
      "language": "Python",
      "display_name": "Synapse PySpark"
    },
    "language_info": {
      "name": "python"
    },
    "kernel_info": {
      "name": "synapse_pyspark"
    },
    "save_output": true,
    "synapse_widget": {
      "version": "0.1",
      "state": {}
    }
  },
  "nbformat": 4,
  "nbformat_minor": 2
}